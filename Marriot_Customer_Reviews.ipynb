{
  "nbformat": 4,
  "nbformat_minor": 0,
  "metadata": {
    "colab": {
      "provenance": [],
      "authorship_tag": "ABX9TyPQhQZY0yar7LioGRzZD43c",
      "include_colab_link": true
    },
    "kernelspec": {
      "name": "python3",
      "display_name": "Python 3"
    },
    "language_info": {
      "name": "python"
    }
  },
  "cells": [
    {
      "cell_type": "markdown",
      "metadata": {
        "id": "view-in-github",
        "colab_type": "text"
      },
      "source": [
        "<a href=\"https://colab.research.google.com/github/abdulwahab94/abdulwahab94.github.io/blob/main/Marriot_Customer_Reviews.ipynb\" target=\"_parent\"><img src=\"https://colab.research.google.com/assets/colab-badge.svg\" alt=\"Open In Colab\"/></a>"
      ]
    },
    {
      "cell_type": "code",
      "execution_count": null,
      "metadata": {
        "colab": {
          "base_uri": "https://localhost:8080/"
        },
        "id": "4G6jriSlWB87",
        "outputId": "7b717d0c-9bd5-47a2-e79f-c38ba9f116e5"
      },
      "outputs": [
        {
          "output_type": "stream",
          "name": "stdout",
          "text": [
            "Marriott Residence Inn-Round Rock TX- this location is completely out dated- cockroaches and other bugs seen in the room- water faucets fixtures coming out of the walls, moldy mildew around hvac vents, overall unhealthy disgusting environment. I would use caution when staying here. Marriott needs to take a hard look at who they are allowing to represent their brand. Marriott do your due diligence with franchises. Thank you lifetime titanium member.\n",
            "Polarity:  -0.2630952380952381\n",
            "subjectivity:  0.4845238095238095\n",
            "Courtyard Hotel Sandy Park  Exeter UK As a special treat we booked the hotel and rugby tickets. £241 for one night twin room. Had to wait 2 hours to check in, there was no where to sit at breakfast, unless you ran to a table before some one else got there... my sister has mobility issues so we gave up. Went back to our room to make a cup of tea instead and discovered the kettle didn't work. Wouldn't be so picky if we hadn't paid so much. \n",
            "Polarity:  0.18571428571428572\n",
            "subjectivity:  0.2571428571428571\n",
            "Had a great experience with a/c marriot in las palmas. Just came out of hospital with 2 crushed ribs. Well looked after. I forgot my charger so i asked reception. Nothing was too much trouble for them. \n",
            "Polarity:  0.16666666666666666\n",
            "subjectivity:  0.35000000000000003\n",
            "I had a great stay at the jw marriott it was super nice, super fun and also all the amenities were amazing! Only downside is it was pretty expensive! \n",
            "Polarity:  0.30462962962962964\n",
            "subjectivity:  0.7648148148148148\n",
            "Careful when you stop your car Trevelyan Square, Leeds i have just stop a car for a min not PARKED i was in car & i have recieved fine from UKCPS , utterly disappointed with the tricks by earning from ppls, Marriot's hotel, Trevelyan Square, Leedsshould think they are well-known business by playing nasty tricks ..SHAME SHAME ....i will never ever go marriot hotels . BAN BAN.. \n",
            "Polarity:  -0.35833333333333334\n",
            "subjectivity:  0.8125\n",
            "I have been very pleased with all of my stays at Marriot Hotels.  At a recent stay at the Residence Inn by Marriot in Torrance, California, our room was spotless, the staff was friendly and efficient and the breakfast offerings were healthy. The breakfast room allows for groups (families or business groups) along with people who just want to sit alone (at a table or raised counter). We really enjoyed our stay and will stay there again when traveling the coast of California.\n",
            "Polarity:  0.40499999999999997\n",
            "subjectivity:  0.5900000000000001\n",
            "Unfortunately, Marriott has let us down. We are Platinum members and had an issue a few months back. Residence Inn in Bothell WA overbooked and had no room for us. Since that time we have called customer service 5 times over 2 months to get 90k points that they owe us according to their policy. They told us the hotel has to issue them and that just never happens. Do not believe the customer service agents, they have no power to make this happen. So, long story short, Marriott is lying to you when they say you have a room guarantee.\n",
            "Polarity:  -0.15092592592592594\n",
            "subjectivity:  0.34814814814814815\n",
            "I made a pre-paid booking at AC hotel by Marriott in Boston on 1/27/24 since I missed the last train back to NY after a meeting with the CEO of Hancock. I live in Europe and where contactless payment is the norm, but at checkin the lady at the front desk would not accept contactless for the incidents only (the room was already paid).  I offered to pay the 250 deposit with cash, which she still refused.  She was acting annoyed, but I started to be nervous so I told her then I’ll sit in the lobby all night .  To thus she responded by threatening to call security to get me out.  So at freezing temperatures 11 at night she throws me out.  I walked around for two hours from hotel to hotel but while much mire helpful than her, no luck.  I ended up having to sleep at a hostel sharing room with 3 others.  The fact that she couldn’t even this one time take cash for the deposit and rather wanted a 60 year old man sleep in the street (which I though would be the case for awhile) is mind boggling.  Hence my 1 star review of this hotel.\n",
            "Polarity:  0.0045454545454545435\n",
            "subjectivity:  0.3458333333333334\n",
            "I stayed in the Marriott Park Hotel in Rome for one night. There was a que of at last 40 people to check in. Only one person did the job. Sometimes you other people behind the front desk but they refused to help.  It took me 1,5 hour to reach the front desk. Then the employee did not know the difference between a debt and credit card. They refuse to give me senior discount (as a member they should give me the discount according the website). In the room the shower was over flooded and no sugar available for the coffee. Terrible Marriott Hotel. I was staying in room 4009 A.\n",
            "Polarity:  -0.1875\n",
            "subjectivity:  0.5902777777777778\n",
            "Just left the St.Pancras Renaissance Marriott Bonvoy hotel after a 3 day, 2 nights stay.With such heavily priced, room rates you'd want a higher level of service.  Not all staff are at a hospitality level deserved for charging these astronomic prices .. like £9 for a small white wine, £5 for mini pot of chips, £122 for a small dinner for two...  In the Spa, £140 for an hour massage... £160 for two half hour treatments (which were finished in 55 minutes and not particularly any good - low energy from the therapist) ... I found a number of the food and beverage staff to be curt, non smiling and unhelpful.  Not all, some were lovely but it felt majority were cold and brittle.  This could be an indicator of them being highly worked and low paid.  Very unfair because this Marriott company are obviously charging giant amounts of money.  Rooms were clean as was the Spa, products were good quality.  Many housekeeping were unable to understand English although they did try to assist to their best ability. I will hesitate in visiting this hotel/spa ever again.  It's not all bad but for prices charged, should be way better and feel staff should be better paid to help lift all spirits.\n",
            "Polarity:  0.06580246913580247\n",
            "subjectivity:  0.4835802469135802\n",
            "Where do I begin... Reservation number: M1679860675804. I have been a titanium elite member for several years. I have generally received good service and usually felt appreciated because of my loyalty. However over the last year or so Marriott / Bonvoy has taken quite a turn. I have had a few questionable stays this year but the incident that has me questioning whether or not I want to continue my relationship with Marriott began in March 2023 when I reserved a house with Homes and Villas. It's Marriott version of AirB&B. In fact the home I rented was listed on both Air B&B and VRBO for less money but I chose to stay with Marriott because I trusted their service. I arranged the stay through my Bonvoy App including paying for the house. So, skip to yesterday, July 22, 2023, when I was contacted by a third party company, not Marriott requesting a credit card number for incidentals, the day before check in on July 23, 2023. I called the associated telephone number and reached someone with strong indicators of not being in this country based on very strong accent and their unwillingness to admit what country they were located in. I can also hear all the kids in the background. I was obviously concerned about giving them a credit card number with all of the concerns out there with identity theft. They transferred me to a woman calling herself Odessa. She demanded a credit card number or I would not be provided an access code to the house or access to the gated community that the house is located. I obviously contacted Bonvoy for assistance because this is where I made the reservation. I actually called and talked to about 10 representatives throughout the day. One of which told me I would be contacted directly by Homes and Villas on the same date. I was not so I called back and learned that everyone from Homes and Villas had gone home. Did I mention I was on the road traveling across country with my family? I learned that Homes and Villas has no customer service contacts except for the email and a worthless contact us app. I never received an email response from Homes and Villas and the contact app simply referred me back to the third party company who was extorting me for credit card info and more money. I wound up buying a loadable card from Walmart to pay the $250 incidental reserve. The third party app promptly charged me $896... I then made additional calls to Bonvoy who has done nothing by provide me excuses about why they cannot help. \"This is Bonvoy, not Homes and Villas\" \"You have to contact Homes and Villas\" \"They usually respond in five business days,\" If you recall, today is check in day... In total I spoke to two Bonvoy supervisors who said they escalated my complaint but still no contact. I spoke to maybe eight or ten representatives with no resolution. I then called the third party company who would not put me on with the representative who manages the rented property. I called Bonvoy to at least register this complaint and again, \"I apologize but I have no course to help you.\" I cannot believe the lack of service that I have received from Marriott. I have never been so disappointed in this company. Below are guarantees that Marriott Homes and Villas list on their own site:\"Worry-Free TravelTravel lighter with 24/7 support, seamless arrivals, and premium home essentials\"This is clearly BS! Marriott has resorted to leaving their customers vulnerable to the scammers they have decided to work with.\n",
            "Polarity:  -0.026250000000000002\n",
            "subjectivity:  0.34126322751322746\n",
            "We live in 2 days in Marriot hotel 🏨 .. services r good .. all the views or good\n",
            "Polarity:  0.5121212121212121\n",
            "subjectivity:  0.5666666666666668\n"
          ]
        }
      ],
      "source": [
        "### In the following, I will write a simple code in Python to extract customers reviews from trustpilot and analyse them. The idea is to simply extract the\n",
        "### reviews text and perform NLP analysis using polarity and subjectivity to calculate the overall sentiment.\n",
        "from urllib.request import urlopen\n",
        "from bs4 import BeautifulSoup as soup\n",
        "import re\n",
        "from textblob import TextBlob\n",
        "url='https://uk.trustpilot.com/review/marriot.it'\n",
        "url_open=urlopen(url)\n",
        "html_read=url_open.read()\n",
        "url_open.close()\n",
        "#my_text=[]\n",
        "html_page=soup(html_read,'html.parser')\n",
        "text_initial_container=html_page.findAll('p',{'class':'typography_body-l__KUYFJ typography_appearance-default__AAY17 typography_color-black__5LYEn'})\n",
        "text_container=text_initial_container[0]\n",
        "file_name='sentiment_analysis.csv'\n",
        "f=open(file_name,'w')\n",
        "headers='Polarity, Subjectivity, Sentiment(positve/negative)\\n'\n",
        "f.write(headers)\n",
        "\n",
        "for text_container in text_initial_container:\n",
        "    my_text=text_container.text\n",
        "    ob = TextBlob(my_text)\n",
        "    polarity_container=ob.sentiment.polarity\n",
        "    subjectivity_container=ob.sentiment.subjectivity\n",
        "    print(my_text)\n",
        "    print('Polarity: ',ob.sentiment.polarity)\n",
        "    print('subjectivity: ',ob.sentiment.subjectivity)\n",
        "    if polarity_container>0:\n",
        "        final_sentiment_container='Positive'\n",
        "    elif polarity_container==0:\n",
        "        final_sentiment_container='Neutral'\n",
        "    else:\n",
        "        final_sentiment_container='Negative'\n",
        "    #float to string conversion for concatenation of strings in output representation\n",
        "    f.write(str(polarity_container) + ',' + str(subjectivity_container) + ',' + final_sentiment_container + '\\n')\n",
        "f.close()\n"
      ]
    },
    {
      "cell_type": "code",
      "source": [],
      "metadata": {
        "id": "nH3-W1bKYCf3"
      },
      "execution_count": null,
      "outputs": []
    }
  ]
}